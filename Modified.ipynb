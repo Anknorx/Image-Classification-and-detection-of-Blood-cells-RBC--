{
  "nbformat": 4,
  "nbformat_minor": 0,
  "metadata": {
    "colab": {
      "provenance": []
    },
    "kernelspec": {
      "name": "python3",
      "display_name": "Python 3"
    },
    "language_info": {
      "name": "python"
    }
  },
  "cells": [
    {
      "cell_type": "code",
      "source": [
        "from google.colab import files\n",
        "uploaded = files.upload()"
      ],
      "metadata": {
        "id": "MJl3NzegOU8I"
      },
      "execution_count": null,
      "outputs": []
    },
    {
      "cell_type": "code",
      "execution_count": 6,
      "metadata": {
        "colab": {
          "base_uri": "https://localhost:8080/"
        },
        "id": "L2yQ7DrjNEMC",
        "outputId": "3511b33f-940b-4624-ee62-6a66102b3551"
      },
      "outputs": [
        {
          "output_type": "stream",
          "name": "stdout",
          "text": [
            "RBCs detected in image-1.png: 1\n",
            "RBCs detected in image-2.png: 3\n",
            "RBCs detected in image-4.png: 8\n",
            "RBCs detected in image-7.png: 1\n",
            "RBCs detected in image-8.png: 4\n",
            "RBCs detected in image-10.png: 0\n"
          ]
        }
      ],
      "source": [
        "  import cv2\n",
        "  import numpy as np\n",
        "  import os\n",
        "\n",
        "  if not os.path.exists('RBC_IMAGES'):\n",
        "    os.makedirs('RBC_IMAGES')\n",
        "\n",
        "  for i in range(1, 120):  \n",
        "      filename = f'image-{i}.png'\n",
        "      if not os.path.exists(filename):\n",
        "          continue\n",
        "      \n",
        "      img = cv2.imread(filename)\n",
        "      gray = cv2.cvtColor(img, cv2.COLOR_BGR2GRAY)\n",
        "\n",
        "      a = 0\n",
        "      b = 255\n",
        "      c = np.min(gray)\n",
        "      d = np.max(gray)\n",
        "      stretched = np.round((gray - c) * ((b - a) / (d - c)) + a).astype(np.uint8)\n",
        "\n",
        "      equ = cv2.equalizeHist(stretched)\n",
        "\n",
        "      blurred = cv2.GaussianBlur(equ, (5,5), 0)\n",
        "      unsharp_mask = cv2.addWeighted(equ, 1.5, blurred, -0.5, 0)\n",
        "\n",
        "      f = np.fft.fft2(unsharp_mask)\n",
        "      fshift = np.fft.fftshift(f)\n",
        "              \n",
        "      \n",
        "      rows, cols = unsharp_mask.shape\n",
        "      crow, ccol = int(rows/2), int(cols/2)\n",
        "      mask1 = np.zeros((rows,cols), np.uint8)\n",
        "      r = 50\n",
        "      center = [crow,ccol]\n",
        "      x, y = np.ogrid[:rows, :cols]\n",
        "      mask_area1 = (x - center[0])*2 + (y - center[1])*2 <= r*r\n",
        "      mask1[mask_area1] = 1\n",
        "\n",
        "      \n",
        "      rows, cols = unsharp_mask.shape\n",
        "      crow, ccol = int(rows/2), int(cols/2)\n",
        "      mask2 = np.zeros((rows,cols), np.uint8)\n",
        "      rx, ry = r = 50, 25  # Change rx and ry to modify the shape of the elliptical mask\n",
        "      center = [crow, ccol]\n",
        "      x, y = np.ogrid[:rows, :cols]\n",
        "      mask_area2 = ((x - center[0])**2 / rx**2) + ((y - center[1])**2 / ry**2) <= 1\n",
        "      mask2[mask_area2] = 1\n",
        "      \n",
        "      # Blend the circular and elliptical masks\n",
        "      \n",
        "      blended_mask = np.zeros((rows,cols), np.uint8)\n",
        "      mask_area3 = ((((2*(x - center[0])**2)*(1 + ( y - center[1]))) / rx**2) + (((2*(y - center[1])**2)*(1 + (x - center[0]))) / ry**2)) <=1\n",
        "      blended_mask[mask_area3] = 1\n",
        "\n",
        "      fshift_filtered = fshift * blended_mask\n",
        "\n",
        "      f_ishift = np.fft.ifftshift(fshift_filtered)\n",
        "      filtered = np.fft.ifft2(f_ishift)\n",
        "      filtered = np.abs(filtered)\n",
        "\n",
        "      thresh_val, thresh = cv2.threshold(np.uint8(filtered), 0, 255, cv2.THRESH_BINARY+cv2.THRESH_OTSU)\n",
        "\n",
        "      kernel = cv2.getStructuringElement(cv2.MORPH_ELLIPSE, (3,3))\n",
        "      opening = cv2.morphologyEx(thresh, cv2.MORPH_OPEN, kernel, iterations=1)\n",
        "      closing = cv2.morphologyEx(opening, cv2.MORPH_CLOSE, kernel, iterations=1)\n",
        "\n",
        "      contours, hierarchy = cv2.findContours(closing.astype(np.uint8), cv2.RETR_TREE, cv2.CHAIN_APPROX_SIMPLE)\n",
        "\n",
        "      rbc_images = []\n",
        "\n",
        "      for i, contour in enumerate(contours):\n",
        "          area = cv2.contourArea(contour)\n",
        "          if area > 1000:\n",
        "              x,y,w,h = cv2.boundingRect(contour)\n",
        "              cell = img[y:y+h, x:x+w]\n",
        "              cell = cv2.resize(cell, (100, 100), interpolation=cv2.INTER_AREA)\n",
        "              avg_color_per_row = np.average(cell, axis=0)\n",
        "              avg_color = np.average(avg_color_per_row, axis=0)\n",
        "\n",
        "              if avg_color[2] > avg_color[0] + 30 and avg_color[2] > avg_color[1] + 30:\n",
        "                  rbc_images.append(cell)\n",
        "                  cv2.imwrite(f'RBC_IMAGES\\RBC_{i}_{len(rbc_images)}.png', cell)\n",
        "\n",
        "      print(f'RBCs detected in {filename}: {len(rbc_images)}')\n"
      ]
    },
    {
      "cell_type": "code",
      "source": [],
      "metadata": {
        "id": "sf-9iZ7SPZTs"
      },
      "execution_count": null,
      "outputs": []
    }
  ]
}